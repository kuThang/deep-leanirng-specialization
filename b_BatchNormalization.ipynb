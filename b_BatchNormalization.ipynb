{
 "cells": [
  {
   "cell_type": "markdown",
   "metadata": {},
   "source": [
    "# BatchNormalization Methods\n",
    "\n",
    "### _Batch normalization limits difference between training set distribution and test set distribution_\n",
    "\n",
    "Normalize output $Z^{L}$ before compute $A^L = activation(Z^L)$\n",
    "\n",
    "BatchNormalization has some hyperparameter. Given some value in NN $z^1, ... z^m$:\n",
    "\n",
    "$$\\mu = \\frac {1}{m} \\large \\sum\\limits_{i }^{} z^i$$\n",
    "$$\\sigma^2 =  \\frac {1}{m} \\large \\sum\\limits_{i }^{} (z_i - \\mu)^2$$\n",
    "$$z^{i}_{norm} =\\frac{z^i - \\mu}{\\sqrt{\\sigma^2 + \\epsilon}}$$\n",
    "$$z^{i}_{batchNorm} =\\gamma z^{i}_{norm} + \\beta$$\n",
    "\n",
    "Hyperparameter : $\\epsilon=small$\n",
    "\n",
    "Learnable parameters: $\\gamma, \\beta$ "
   ]
  },
  {
   "cell_type": "markdown",
   "metadata": {},
   "source": [
    "### Use BatchNormalization\n",
    "\n",
    "Normally, \n",
    "$$Z^{L} =W^L * A^{L-1} + b^L$$\n",
    "$$Z^{L}_{batchNorm} =\\gamma Z^{L}_{norm} + \\beta$$\n",
    "\n",
    "Here, there are 4 parameters: $W, b, \\gamma, \\beta$\n",
    "\n",
    "But actually $b$ can be removed becase BatchNorm normalize $Z^L$. Hence\n",
    "$$Z^{L} =W^L * A^{L-1}$$\n",
    "$$Z^{L}_{batchNorm} =\\gamma Z^{L}_{norm} + \\beta$$"
   ]
  },
  {
   "cell_type": "markdown",
   "metadata": {},
   "source": [
    "### BatchNormalization at test\n",
    "\n",
    "BN need $\\mu$ and $\\sigma$ to compute $z^{i}_{norm}$ and $z^{i}_{batchNorm}$. But at test time, only one example will be run. We will use mean of $\\mu$ and $\\sigma$  that calculated over training set to compute at test time "
   ]
  },
  {
   "cell_type": "code",
   "execution_count": null,
   "metadata": {},
   "outputs": [],
   "source": []
  }
 ],
 "metadata": {
  "coursera": {
   "course_slug": "deep-neural-network",
   "graded_item_id": "Ckiv2",
   "launcher_item_id": "eNLYh"
  },
  "kernelspec": {
   "display_name": "Python 3",
   "language": "python",
   "name": "python3"
  },
  "language_info": {
   "codemirror_mode": {
    "name": "ipython",
    "version": 3
   },
   "file_extension": ".py",
   "mimetype": "text/x-python",
   "name": "python",
   "nbconvert_exporter": "python",
   "pygments_lexer": "ipython3",
   "version": "3.6.5"
  }
 },
 "nbformat": 4,
 "nbformat_minor": 1
}
